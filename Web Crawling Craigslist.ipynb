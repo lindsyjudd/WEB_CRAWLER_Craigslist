{
 "cells": [
  {
   "cell_type": "code",
   "execution_count": 90,
   "metadata": {},
   "outputs": [],
   "source": [
    "import requests\n",
    "import bs4\n",
    "from bs4 import BeautifulSoup"
   ]
  },
  {
   "cell_type": "code",
   "execution_count": 91,
   "metadata": {},
   "outputs": [],
   "source": [
    "url = 'https://sfbay.craigslist.org/search/sby/hhh?srchType=T&availabilityMode=0&sale_date=all+dates'"
   ]
  },
  {
   "cell_type": "code",
   "execution_count": 92,
   "metadata": {},
   "outputs": [],
   "source": [
    "headers = {\n",
    "    'User-Agent' : '\"Mozilla/5.0 (Windows NT 10.0; Win64; x64) AppleWebKit/537.36 (KHTML, like Gecko) Chrome/90.0.4430.212 Safari/537.36\"'\n",
    "}"
   ]
  },
  {
   "cell_type": "code",
   "execution_count": 93,
   "metadata": {},
   "outputs": [],
   "source": [
    "r = requests.get(url, {'headers':headers})"
   ]
  },
  {
   "cell_type": "code",
   "execution_count": 94,
   "metadata": {},
   "outputs": [],
   "source": [
    "soup = bs4.BeautifulSoup(r.text, 'html.parser')"
   ]
  },
  {
   "cell_type": "code",
   "execution_count": 95,
   "metadata": {},
   "outputs": [
    {
     "data": {
      "text/plain": [
       "'1br w/ 10 WEEKS FREE!! Walk to Pruneyard, DT Campbell & LG Trail!!!'"
      ]
     },
     "execution_count": 95,
     "metadata": {},
     "output_type": "execute_result"
    }
   ],
   "source": [
    "soup.find_all('h3', {'class' : 'result-heading'})[0].find_all('a')[-1].text"
   ]
  },
  {
   "cell_type": "code",
   "execution_count": 96,
   "metadata": {},
   "outputs": [
    {
     "name": "stdout",
     "output_type": "stream",
     "text": [
      "1br w/ 10 WEEKS FREE!! Walk to Pruneyard, DT Campbell & LG Trail!!!\n",
      "Quartz countertops in kitchen & bath, Oversized walk-in closets\n",
      "Find Your Freedom, Without Leaving Home.\n",
      "Lease One of Our Largest 2 Bedroom Apartments w/ 10  Weeks Free!\n",
      "Live The Lush Garden Life  Here In Mountain View!\n",
      "APT#65 SPACIOUS ALL WOOD FLOORS. MOVE IN SPECIAL!!\n",
      "1BR 1BA apt • SAVE! 3 MONTHS FREE • Wood-style flooring • Near Kaiser\n",
      "The Soho Available For  Move-In Today! Garage Included!\n",
      "Business Center with WiFi, Modern, Open Layouts, Outdoor Courtyard\n",
      "Great Mtn. View Location\n"
     ]
    }
   ],
   "source": [
    "i = 0 \n",
    "while i < 10:\n",
    "    print(soup.find_all('h3', {'class' : 'result-heading'})[i].find_all('a')[0].text)\n",
    "    i += 1"
   ]
  },
  {
   "cell_type": "code",
   "execution_count": 109,
   "metadata": {},
   "outputs": [],
   "source": [
    "def getPosting ():\n",
    "    r  = requests.get(url, {'headers' :headers})\n",
    "    soup = bs4.BeautifulSoup(r.text, 'html.parser')\n",
    "    soup.find_all('h3', {'class' : 'result-heading'})[0].find_all('a')[-1].text\n",
    "    i = 0\n",
    "    \n",
    "    while i <119 :\n",
    "        print(soup.find_all('h3', {'class' : 'result-heading'})[i].find_all('a')[0].text)\n",
    "        i += 1  "
   ]
  },
  {
   "cell_type": "code",
   "execution_count": 110,
   "metadata": {},
   "outputs": [
    {
     "name": "stdout",
     "output_type": "stream",
     "text": [
      "1br w/ 10 WEEKS FREE!! Walk to Pruneyard, DT Campbell & LG Trail!!!\n",
      "Quartz countertops in kitchen & bath, Oversized walk-in closets\n",
      "Find Your Freedom, Without Leaving Home.\n",
      "Lease One of Our Largest 2 Bedroom Apartments w/ 10  Weeks Free!\n",
      "Live The Lush Garden Life  Here In Mountain View!\n",
      "APT#65 SPACIOUS ALL WOOD FLOORS. MOVE IN SPECIAL!!\n",
      "1BR 1BA apt • SAVE! 3 MONTHS FREE • Wood-style flooring • Near Kaiser\n",
      "The Soho Available For  Move-In Today! Garage Included!\n",
      "Business Center with WiFi, Modern, Open Layouts, Outdoor Courtyard\n",
      "Great Mtn. View Location\n",
      "7th Floor One Bedroom Loft Could Be Yours with 8 weeks free!💝💝\n",
      "Secure the perfect apartment today here at Patina!💎2 Months Free!💎\n",
      "Classic 2x2 closer to Apple Campus and Cupertino Village, July move in\n",
      "Lovely 2BR 2BA apt • 2 MONTHS FREE! • Modern kitchen • Great plan flow\n",
      "PRIME SANTA CLARA LOCATION-BOOK A SELF-GUIDED TOUR!\n",
      "Lease Today, Smoke Free, Pets Welcome+ 2 Weeks Only!\n",
      "Patio/ Balcony, Controlled Access, Hard-Surface Flooring\n",
      "Brand new Studio in San Jose\n",
      "OPEN HOUSE. SPACIOUS TOWNHOUSE 2X1.5 IN GREAT LOCATION~ 1 MONTH FREE!\n",
      "2 Months Free | Tour Today | Love Where You Live at Patina Midtown!\n",
      "OPEN HOUSE 2 MONTHS FREE! Incredible 2x1 Bedroom Newly Renovated!\n",
      "Rome is Where the Heart Is, & It's Here at The Arches!\n",
      "☺♥ Studios Ready for Immediate Move In ☼ 1 Month Free ♥☺\n",
      "Brand New Studio in San Jose\n",
      "Beautiful upper level 2x2s available now! Lease & Get 2 MONTHS FREE!\n",
      "Deluxe kitchen! 1BR 1BA apt, SAVE up to $1500! W/D inside, A/C comfort\n",
      "4 Weeks FREE Rent for 1 Year Lease! Spacious and Convenient 2BR 2BA!\n",
      "3 MONTHS FREE • San Jose Studio • Modern kitchen •Full-size W/D inside\n",
      "PRIME SANTA CLARA LOCATION-BOOK A SELF-GUIDED TOUR!\n",
      "Se Renta Cuarto/Room for Rent\n",
      "$1700 OFF! Convenient and Beautiful Apartments in Gated Community\n",
      "1 Mo FREE - Our Gift to You - All NEW interior, Ground floor\n",
      "Amazing 1bedroom 1bathroom with Great Location in Sunnyvale\n",
      "Comfort And Convenience In The Heart Of Silicon Valley!\n",
      "272 Hayes Ave # B: Fantastic Location & Schools! Available Now!\n",
      "7408 Stanford Pl: Great Unit\n",
      "Sit Back, Relax. Your New View Awaits.\n",
      "22432 Palm Ave: Great Home New Price!\n",
      "2111 Latham St Apt 111: Near Everythinng\n",
      "***BEAUTIFUL 1 BED,1 BATH CONDO $539,000***\n",
      "1111MorseAve.65!2/2 Home W/WalkInCloset,NiceLocation!ComingSoon!\n",
      "Brand New Studio in San Jose\n",
      "In-Home Washer/Dryer & Move-In Deals!! Call TODAY\n",
      "~1 private bedroom for rent month to month!~\n",
      "OPEN HOUSE 2 Months Free Available Now Cupertino 2x1 Is Ready For You!\n",
      "Location, Community, Quality Living. It Starts Here! Santana Heights!\n",
      "Downtown Campbell, Pet Friendly, In-Unit Laundry Room\n",
      "🏠 Special Special Special 🏠 1 Mo FREE 🏠 Top Floor 🏠\n",
      "Studio Available Today!!\n",
      "Hearth Apartments: Living at its Best!\n",
      "OPEN HOUSE 2 Months Free! Available Now! Cupertino 2x2\n",
      "OPEN HOUSE 1 Month Free! Beautifully Renovated 1x1 In Cupertino\n",
      "RV/Trailer living space  for rent\n",
      "55+Cmty,Cabinetry,QuartzCNTPs,OpenFloorPlan,WalkInCloset!ComingSoon!\n",
      "Apt  for rent\n",
      "BEAUTIFUL 1x1 SPACIOUS CONDO AVAILABLE FOR RENT!\n",
      "Only 2x1 available - Visit TODAY, W&D, 2 Mo FREE\n",
      "BEAUTIFUL SPACIOUS 2 BEDROOM IN PARK-LIKE SETTING\n",
      "BEAUTIFUL 2x2 SPACIOUS CONDO AVAILABLE FOR RENT!\n",
      "Our Loss is Your Win! Besides This Low Price, You Get So Much More!\n",
      "2 Weeks Off This BIG 1bd 1ba w/ Extra Closet Space!\n",
      "Summerset #170!SplitFloorPlan,AllAgeCmty,BuiltInCredenza!\n",
      "Willow Ranch #65! Coming Soon!\n",
      "Bright & Sunny Patio w/ Pool Views\n",
      "3 MONTHS FREE! Open plan, Santa Clara 2BR 1BA apt, Generous storage\n",
      "CAMPBELL - Nice upstairs unit in well maintained fourplex\n",
      "Incredible Amenities, Lease Today, Leasing Now Plus 4 Weeks Free\n",
      "1 Month Free & extra $1,000 off. Outdoor cycling and weights. Touring!\n",
      "RV/Trailer  living space\n",
      "Cupertino School District, 1 month Free & Extra Bonus! Tours Today!\n",
      "Spacious Ground Floor Unit Ready For Move-In\n",
      "$800 ROOM FOR RENT\n",
      "Convenience of full-sized washer and dryer in each residence\n",
      "Your Pool View Awaits You!\n",
      "ElDorado#98!DoublePaneWindows,WalkInCloset,Vanity,StepInShower!\n",
      "Nice Room For Share\n",
      "Master Bedroom with private bath  Los Gatos $1200\n",
      "2 BR 2-1/2 Ba Double-Window Insulated/Sound Proof Townhome\n",
      "🏠 2bed & 2bath condo for rent with inside laundry\n",
      "LOS GATOS - Elegantly remodeled home, great location.\n",
      "Renovated Campbell Community- 4 WEEKS ON US!!\n",
      "65 Centre Street in Mt. View near downtown,237,101,280\n",
      "CAMBRIAN - spacious updated home in desirable Cambrian cul-de-sac loca\n",
      "Centre Street in Mt. View near downtown,237,101,280\n",
      "SAN JOSE - 2/1 Upstairs Unit in a Four Plex\n",
      "Available now $2,100 very clean 2 bdrm/10 unit bldg/Beautiful Garden\n",
      "8 Weeks Free!!!!, Community Events, Fitness Center\n",
      "Gateway Apartments - Downtown - 1 Bdrm 1 Bath - Downtown Campbell!\n",
      "Virtual Tours Offered at Montrose!\n",
      "2 bedroom apt • SAVE! 2 Weeks FREE • Modern kitchen • NEW appliances\n",
      "Upstairs 2 bedroom with a private patio!\n",
      "Deluxe kitchen, Wow! 1 bedroom apt, SAVE up to $1500!! Quality details\n",
      "The Edge largest 2 bedroom Now Available!! Reduce Rent!!\n",
      "Covered Parking\n",
      "Contemporary & Cozy! 1x1 Available Now!\n",
      "Visit Your New Home, Walk In Closets, San Pedro Square\n",
      "$1100 Bedroom - San Jose 10min from Downtown\n",
      "3/2Home In ElDorado W/AiryKitchenCabinetsNiceLocationDoublePaneWindows\n",
      "Rooms for rent in Sunnyvale\n",
      "DOWNSTAIRS 1X1 FOR ONLY $1695 COME TOUR TODAY!!!\n",
      "🎉Make Amalfi Home! Gorgeous 2x2 available! Schedule a tour today!💕\n",
      "We love pets! SAVE on 1BR 1BA apt, Open concept living, Deluxe kitchen\n",
      "House in Willow Glen\n",
      "Limitless Style, Unreal Service & Crazy Fun! A New Wave of Living!\n",
      "3 Weeks Free, Leasing Now, Schedule a Tour\n",
      "2nd Floor Two Bedroom W/ Courtyard Gazes!! MOVE IN SPECIALS\n",
      "Spacious 1BR -Minutes from downtown Campbell!\n",
      "2 Bedroom Available Now!\n",
      "Lovely 1BD/1BA in Beautiful Campbell. New low rate\n",
      "We Have Your New Home Here With Us In Mountain View!\n",
      "SPACIOUS ONE BEDROOM APARTMENT IN TRANQUIL GARDEN SETTING\n",
      "6 weeks Free✔ $200 deposit✔ Sunnyvale✔ Self Guided Tours✔\n",
      ", 2 Large Private Rooms, Semi Bath in a Safe Quiet neighborhood\n",
      "2Good2 Be True!! $3029 for 2x2s @ Villas on The Boulevard!\n",
      "BRAND NEW APARTMENT HOMES - Gorgeous Views & Intimate Floor Plans\n",
      "Beautiful Large 1st Floor One Bedroom Apt. with All the Upgrades\n",
      "$800.00  Available June 3rd...Beautiful clean furnished room.\n",
      "Gated Reserved Parking Garage, Ideal Commuter Location, Clubhouse\n",
      "Beautiful 1BD with W+D in unit, corner apt, 2 weeks free!\n"
     ]
    }
   ],
   "source": [
    "getPosting()"
   ]
  },
  {
   "cell_type": "code",
   "execution_count": null,
   "metadata": {},
   "outputs": [],
   "source": []
  }
 ],
 "metadata": {
  "kernelspec": {
   "display_name": "Python 3",
   "language": "python",
   "name": "python3"
  },
  "language_info": {
   "codemirror_mode": {
    "name": "ipython",
    "version": 3
   },
   "file_extension": ".py",
   "mimetype": "text/x-python",
   "name": "python",
   "nbconvert_exporter": "python",
   "pygments_lexer": "ipython3",
   "version": "3.7.4"
  }
 },
 "nbformat": 4,
 "nbformat_minor": 2
}
